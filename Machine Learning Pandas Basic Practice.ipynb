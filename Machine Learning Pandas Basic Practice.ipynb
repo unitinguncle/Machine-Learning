{
  "cells": [
    {
      "cell_type": "markdown",
      "metadata": {
        "id": "view-in-github",
        "colab_type": "text"
      },
      "source": [
        "<a href=\"https://colab.research.google.com/github/unitinguncle/Machine-Learning/blob/main/Machine%20Learning%20Pandas%20Basic%20Practice.ipynb\" target=\"_parent\"><img src=\"https://colab.research.google.com/assets/colab-badge.svg\" alt=\"Open In Colab\"/></a>"
      ]
    },
    {
      "cell_type": "markdown",
      "metadata": {
        "id": "GHx209vkCRGY"
      },
      "source": [
        "## **Dataset**\n",
        "\n",
        "In this Experiment you will be using movies dataset. The dataset contains 77 rows and 8 columns. The columns are as follows:\n",
        "\n",
        "* Film\n",
        "* Genre\n",
        "     - Romance, Comedy, Drama, Animation, Fantasy, Action\n",
        "* Lead Studio\n",
        "* Audience score in percentage\n",
        "* Profitability\n",
        "* Rotten Tomatoes in percentage\n",
        "* Worldwide Gross\n",
        "* Year"
      ]
    },
    {
      "cell_type": "markdown",
      "source": [
        "## **Exercises**"
      ],
      "metadata": {
        "id": "osYxN7qVTZX3"
      }
    },
    {
      "cell_type": "code",
      "execution_count": null,
      "metadata": {
        "id": "2jTSLqT4EHSk"
      },
      "outputs": [],
      "source": [
        "import pandas as pd"
      ]
    },
    {
      "cell_type": "code",
      "execution_count": null,
      "metadata": {
        "id": "OjI4lOVmERN5"
      },
      "outputs": [],
      "source": [
        "moviesdata = pd.read_csv(\"/content/movies - movies.csv.csv\")"
      ]
    },
    {
      "cell_type": "code",
      "execution_count": null,
      "metadata": {
        "id": "Cz3cDaw2F_Fb",
        "colab": {
          "base_uri": "https://localhost:8080/",
          "height": 320
        },
        "outputId": "1e5d8cef-d29f-4f73-ca5f-637d35cd628e"
      },
      "outputs": [
        {
          "output_type": "execute_result",
          "data": {
            "text/plain": [
              "                                 Film    Genre            Lead Studio  \\\n",
              "0          Zack and Miri Make a Porno  Romance  The Weinstein Company   \n",
              "1                     Youth in Revolt   Comedy  The Weinstein Company   \n",
              "2  You Will Meet a Tall Dark Stranger   Comedy            Independent   \n",
              "3                        When in Rome   Comedy                 Disney   \n",
              "4               What Happens in Vegas   Comedy                    Fox   \n",
              "\n",
              "   Audience score %  Profitability  Rotten Tomatoes % Worldwide Gross  Year  \n",
              "0                70       1.747542                 64          $41.94  2008  \n",
              "1                52       1.090000                 68          $19.62  2010  \n",
              "2                35       1.211818                 43          $26.66  2010  \n",
              "3                44       0.000000                 15          $43.04  2010  \n",
              "4                72       6.267647                 28         $219.37  2008  "
            ],
            "text/html": [
              "\n",
              "  <div id=\"df-9227f137-07c6-40c2-8097-36c976074471\">\n",
              "    <div class=\"colab-df-container\">\n",
              "      <div>\n",
              "<style scoped>\n",
              "    .dataframe tbody tr th:only-of-type {\n",
              "        vertical-align: middle;\n",
              "    }\n",
              "\n",
              "    .dataframe tbody tr th {\n",
              "        vertical-align: top;\n",
              "    }\n",
              "\n",
              "    .dataframe thead th {\n",
              "        text-align: right;\n",
              "    }\n",
              "</style>\n",
              "<table border=\"1\" class=\"dataframe\">\n",
              "  <thead>\n",
              "    <tr style=\"text-align: right;\">\n",
              "      <th></th>\n",
              "      <th>Film</th>\n",
              "      <th>Genre</th>\n",
              "      <th>Lead Studio</th>\n",
              "      <th>Audience score %</th>\n",
              "      <th>Profitability</th>\n",
              "      <th>Rotten Tomatoes %</th>\n",
              "      <th>Worldwide Gross</th>\n",
              "      <th>Year</th>\n",
              "    </tr>\n",
              "  </thead>\n",
              "  <tbody>\n",
              "    <tr>\n",
              "      <th>0</th>\n",
              "      <td>Zack and Miri Make a Porno</td>\n",
              "      <td>Romance</td>\n",
              "      <td>The Weinstein Company</td>\n",
              "      <td>70</td>\n",
              "      <td>1.747542</td>\n",
              "      <td>64</td>\n",
              "      <td>$41.94</td>\n",
              "      <td>2008</td>\n",
              "    </tr>\n",
              "    <tr>\n",
              "      <th>1</th>\n",
              "      <td>Youth in Revolt</td>\n",
              "      <td>Comedy</td>\n",
              "      <td>The Weinstein Company</td>\n",
              "      <td>52</td>\n",
              "      <td>1.090000</td>\n",
              "      <td>68</td>\n",
              "      <td>$19.62</td>\n",
              "      <td>2010</td>\n",
              "    </tr>\n",
              "    <tr>\n",
              "      <th>2</th>\n",
              "      <td>You Will Meet a Tall Dark Stranger</td>\n",
              "      <td>Comedy</td>\n",
              "      <td>Independent</td>\n",
              "      <td>35</td>\n",
              "      <td>1.211818</td>\n",
              "      <td>43</td>\n",
              "      <td>$26.66</td>\n",
              "      <td>2010</td>\n",
              "    </tr>\n",
              "    <tr>\n",
              "      <th>3</th>\n",
              "      <td>When in Rome</td>\n",
              "      <td>Comedy</td>\n",
              "      <td>Disney</td>\n",
              "      <td>44</td>\n",
              "      <td>0.000000</td>\n",
              "      <td>15</td>\n",
              "      <td>$43.04</td>\n",
              "      <td>2010</td>\n",
              "    </tr>\n",
              "    <tr>\n",
              "      <th>4</th>\n",
              "      <td>What Happens in Vegas</td>\n",
              "      <td>Comedy</td>\n",
              "      <td>Fox</td>\n",
              "      <td>72</td>\n",
              "      <td>6.267647</td>\n",
              "      <td>28</td>\n",
              "      <td>$219.37</td>\n",
              "      <td>2008</td>\n",
              "    </tr>\n",
              "  </tbody>\n",
              "</table>\n",
              "</div>\n",
              "      <button class=\"colab-df-convert\" onclick=\"convertToInteractive('df-9227f137-07c6-40c2-8097-36c976074471')\"\n",
              "              title=\"Convert this dataframe to an interactive table.\"\n",
              "              style=\"display:none;\">\n",
              "        \n",
              "  <svg xmlns=\"http://www.w3.org/2000/svg\" height=\"24px\"viewBox=\"0 0 24 24\"\n",
              "       width=\"24px\">\n",
              "    <path d=\"M0 0h24v24H0V0z\" fill=\"none\"/>\n",
              "    <path d=\"M18.56 5.44l.94 2.06.94-2.06 2.06-.94-2.06-.94-.94-2.06-.94 2.06-2.06.94zm-11 1L8.5 8.5l.94-2.06 2.06-.94-2.06-.94L8.5 2.5l-.94 2.06-2.06.94zm10 10l.94 2.06.94-2.06 2.06-.94-2.06-.94-.94-2.06-.94 2.06-2.06.94z\"/><path d=\"M17.41 7.96l-1.37-1.37c-.4-.4-.92-.59-1.43-.59-.52 0-1.04.2-1.43.59L10.3 9.45l-7.72 7.72c-.78.78-.78 2.05 0 2.83L4 21.41c.39.39.9.59 1.41.59.51 0 1.02-.2 1.41-.59l7.78-7.78 2.81-2.81c.8-.78.8-2.07 0-2.86zM5.41 20L4 18.59l7.72-7.72 1.47 1.35L5.41 20z\"/>\n",
              "  </svg>\n",
              "      </button>\n",
              "      \n",
              "  <style>\n",
              "    .colab-df-container {\n",
              "      display:flex;\n",
              "      flex-wrap:wrap;\n",
              "      gap: 12px;\n",
              "    }\n",
              "\n",
              "    .colab-df-convert {\n",
              "      background-color: #E8F0FE;\n",
              "      border: none;\n",
              "      border-radius: 50%;\n",
              "      cursor: pointer;\n",
              "      display: none;\n",
              "      fill: #1967D2;\n",
              "      height: 32px;\n",
              "      padding: 0 0 0 0;\n",
              "      width: 32px;\n",
              "    }\n",
              "\n",
              "    .colab-df-convert:hover {\n",
              "      background-color: #E2EBFA;\n",
              "      box-shadow: 0px 1px 2px rgba(60, 64, 67, 0.3), 0px 1px 3px 1px rgba(60, 64, 67, 0.15);\n",
              "      fill: #174EA6;\n",
              "    }\n",
              "\n",
              "    [theme=dark] .colab-df-convert {\n",
              "      background-color: #3B4455;\n",
              "      fill: #D2E3FC;\n",
              "    }\n",
              "\n",
              "    [theme=dark] .colab-df-convert:hover {\n",
              "      background-color: #434B5C;\n",
              "      box-shadow: 0px 1px 3px 1px rgba(0, 0, 0, 0.15);\n",
              "      filter: drop-shadow(0px 1px 2px rgba(0, 0, 0, 0.3));\n",
              "      fill: #FFFFFF;\n",
              "    }\n",
              "  </style>\n",
              "\n",
              "      <script>\n",
              "        const buttonEl =\n",
              "          document.querySelector('#df-9227f137-07c6-40c2-8097-36c976074471 button.colab-df-convert');\n",
              "        buttonEl.style.display =\n",
              "          google.colab.kernel.accessAllowed ? 'block' : 'none';\n",
              "\n",
              "        async function convertToInteractive(key) {\n",
              "          const element = document.querySelector('#df-9227f137-07c6-40c2-8097-36c976074471');\n",
              "          const dataTable =\n",
              "            await google.colab.kernel.invokeFunction('convertToInteractive',\n",
              "                                                     [key], {});\n",
              "          if (!dataTable) return;\n",
              "\n",
              "          const docLinkHtml = 'Like what you see? Visit the ' +\n",
              "            '<a target=\"_blank\" href=https://colab.research.google.com/notebooks/data_table.ipynb>data table notebook</a>'\n",
              "            + ' to learn more about interactive tables.';\n",
              "          element.innerHTML = '';\n",
              "          dataTable['output_type'] = 'display_data';\n",
              "          await google.colab.output.renderOutput(dataTable, element);\n",
              "          const docLink = document.createElement('div');\n",
              "          docLink.innerHTML = docLinkHtml;\n",
              "          element.appendChild(docLink);\n",
              "        }\n",
              "      </script>\n",
              "    </div>\n",
              "  </div>\n",
              "  "
            ]
          },
          "metadata": {},
          "execution_count": 17
        }
      ],
      "source": [
        "moviesdata.head()"
      ]
    },
    {
      "cell_type": "markdown",
      "metadata": {
        "id": "7lFxb7yqFOCn"
      },
      "source": [
        "### Exercises 1: How many movies are listed in the moviesdata dataframe?"
      ]
    },
    {
      "cell_type": "code",
      "execution_count": null,
      "metadata": {
        "id": "Id6nA4idFZUH",
        "colab": {
          "base_uri": "https://localhost:8080/"
        },
        "outputId": "20c387ec-bc82-42b1-d6df-c8800f95d298"
      },
      "outputs": [
        {
          "output_type": "execute_result",
          "data": {
            "text/plain": [
              "77"
            ]
          },
          "metadata": {},
          "execution_count": 6
        }
      ],
      "source": [
        "# Your Code Here\n",
        "moviesdata['Film'].count()"
      ]
    },
    {
      "cell_type": "markdown",
      "metadata": {
        "id": "951to2E3Fzqt"
      },
      "source": [
        "### Exercises 2: How many movies were made in the year 2009?"
      ]
    },
    {
      "cell_type": "code",
      "execution_count": null,
      "metadata": {
        "id": "mujshh9uEgFz",
        "colab": {
          "base_uri": "https://localhost:8080/"
        },
        "outputId": "995e1d37-c1ed-4b4a-ca9d-840f97d5f824"
      },
      "outputs": [
        {
          "output_type": "execute_result",
          "data": {
            "text/plain": [
              "12"
            ]
          },
          "metadata": {},
          "execution_count": 21
        }
      ],
      "source": [
        "moviesdata[moviesdata['Year']==2009]['Film'].count()"
      ]
    },
    {
      "cell_type": "markdown",
      "metadata": {
        "id": "lNhxrJbhFBDC"
      },
      "source": [
        "### Exercises 3: Which year saw the most films released?"
      ]
    },
    {
      "cell_type": "code",
      "execution_count": null,
      "metadata": {
        "id": "hP6hZLJUSW03",
        "colab": {
          "base_uri": "https://localhost:8080/"
        },
        "outputId": "0dc51dbb-f17d-4d4b-bc08-ff02430f9f13"
      },
      "outputs": [
        {
          "output_type": "execute_result",
          "data": {
            "text/plain": [
              "2011"
            ]
          },
          "metadata": {},
          "execution_count": 22
        }
      ],
      "source": [
        "# Your Code Here\n",
        "moviesdata['Year'].max()"
      ]
    },
    {
      "cell_type": "markdown",
      "metadata": {
        "id": "lfA0jgISGGfx"
      },
      "source": [
        "### Exercises 4: How many movies were made from 2010 through 2011?"
      ]
    },
    {
      "cell_type": "code",
      "execution_count": null,
      "metadata": {
        "id": "GT87nhGUGKqs",
        "colab": {
          "base_uri": "https://localhost:8080/"
        },
        "outputId": "2844d25c-3bf4-4188-a7bc-3eb13c46fc92"
      },
      "outputs": [
        {
          "output_type": "execute_result",
          "data": {
            "text/plain": [
              "34"
            ]
          },
          "metadata": {},
          "execution_count": 32
        }
      ],
      "source": [
        "# Your Code Here\n",
        "m10 = moviesdata['Year']==2010\n",
        "m11 = moviesdata['Year']==2011\n",
        "moviesdata[m10 | m11]['Film'].count()"
      ]
    },
    {
      "cell_type": "markdown",
      "metadata": {
        "id": "rERFAv1xGy4x"
      },
      "source": [
        "### Exercises 5: In Genre column, sometimes Comedy is spelled as Comdy, comedy and Romance is spelled as romance, Romence. Replace all the misspelt words with correct words"
      ]
    },
    {
      "cell_type": "code",
      "execution_count": null,
      "metadata": {
        "id": "8SVeciUSGyPv",
        "colab": {
          "base_uri": "https://localhost:8080/",
          "height": 537
        },
        "outputId": "346a9d6f-cd9b-474e-ff7f-b9822249bcd9"
      },
      "outputs": [
        {
          "output_type": "execute_result",
          "data": {
            "text/plain": [
              "                                  Film    Genre            Lead Studio  \\\n",
              "0           Zack and Miri Make a Porno  Romance  The Weinstein Company   \n",
              "1                      Youth in Revolt   Comedy  The Weinstein Company   \n",
              "2   You Will Meet a Tall Dark Stranger   Comedy            Independent   \n",
              "3                         When in Rome   Comedy                 Disney   \n",
              "4                What Happens in Vegas   Comedy                    Fox   \n",
              "..                                 ...      ...                    ...   \n",
              "72                 Across the Universe  Romance            Independent   \n",
              "73                       A Serious Man    Drama              Universal   \n",
              "74                  A Dangerous Method    Drama            Independent   \n",
              "75                          27 Dresses   Comedy                    Fox   \n",
              "76                (500) Days of Summer   comedy                    Fox   \n",
              "\n",
              "    Audience score %  Profitability  Rotten Tomatoes % Worldwide Gross  Year  \n",
              "0                 70       1.747542                 64          $41.94  2008  \n",
              "1                 52       1.090000                 68          $19.62  2010  \n",
              "2                 35       1.211818                 43          $26.66  2010  \n",
              "3                 44       0.000000                 15          $43.04  2010  \n",
              "4                 72       6.267647                 28         $219.37  2008  \n",
              "..               ...            ...                ...             ...   ...  \n",
              "72                84       0.652603                 54          $29.37  2007  \n",
              "73                64       4.382857                 89          $30.68  2009  \n",
              "74                89       0.448645                 79           $8.97  2011  \n",
              "75                71       5.343622                 40         $160.31  2008  \n",
              "76                81       8.096000                 87          $60.72  2009  \n",
              "\n",
              "[77 rows x 8 columns]"
            ],
            "text/html": [
              "\n",
              "  <div id=\"df-2bd2f642-03df-418b-ada1-9e3b9e69401f\">\n",
              "    <div class=\"colab-df-container\">\n",
              "      <div>\n",
              "<style scoped>\n",
              "    .dataframe tbody tr th:only-of-type {\n",
              "        vertical-align: middle;\n",
              "    }\n",
              "\n",
              "    .dataframe tbody tr th {\n",
              "        vertical-align: top;\n",
              "    }\n",
              "\n",
              "    .dataframe thead th {\n",
              "        text-align: right;\n",
              "    }\n",
              "</style>\n",
              "<table border=\"1\" class=\"dataframe\">\n",
              "  <thead>\n",
              "    <tr style=\"text-align: right;\">\n",
              "      <th></th>\n",
              "      <th>Film</th>\n",
              "      <th>Genre</th>\n",
              "      <th>Lead Studio</th>\n",
              "      <th>Audience score %</th>\n",
              "      <th>Profitability</th>\n",
              "      <th>Rotten Tomatoes %</th>\n",
              "      <th>Worldwide Gross</th>\n",
              "      <th>Year</th>\n",
              "    </tr>\n",
              "  </thead>\n",
              "  <tbody>\n",
              "    <tr>\n",
              "      <th>0</th>\n",
              "      <td>Zack and Miri Make a Porno</td>\n",
              "      <td>Romance</td>\n",
              "      <td>The Weinstein Company</td>\n",
              "      <td>70</td>\n",
              "      <td>1.747542</td>\n",
              "      <td>64</td>\n",
              "      <td>$41.94</td>\n",
              "      <td>2008</td>\n",
              "    </tr>\n",
              "    <tr>\n",
              "      <th>1</th>\n",
              "      <td>Youth in Revolt</td>\n",
              "      <td>Comedy</td>\n",
              "      <td>The Weinstein Company</td>\n",
              "      <td>52</td>\n",
              "      <td>1.090000</td>\n",
              "      <td>68</td>\n",
              "      <td>$19.62</td>\n",
              "      <td>2010</td>\n",
              "    </tr>\n",
              "    <tr>\n",
              "      <th>2</th>\n",
              "      <td>You Will Meet a Tall Dark Stranger</td>\n",
              "      <td>Comedy</td>\n",
              "      <td>Independent</td>\n",
              "      <td>35</td>\n",
              "      <td>1.211818</td>\n",
              "      <td>43</td>\n",
              "      <td>$26.66</td>\n",
              "      <td>2010</td>\n",
              "    </tr>\n",
              "    <tr>\n",
              "      <th>3</th>\n",
              "      <td>When in Rome</td>\n",
              "      <td>Comedy</td>\n",
              "      <td>Disney</td>\n",
              "      <td>44</td>\n",
              "      <td>0.000000</td>\n",
              "      <td>15</td>\n",
              "      <td>$43.04</td>\n",
              "      <td>2010</td>\n",
              "    </tr>\n",
              "    <tr>\n",
              "      <th>4</th>\n",
              "      <td>What Happens in Vegas</td>\n",
              "      <td>Comedy</td>\n",
              "      <td>Fox</td>\n",
              "      <td>72</td>\n",
              "      <td>6.267647</td>\n",
              "      <td>28</td>\n",
              "      <td>$219.37</td>\n",
              "      <td>2008</td>\n",
              "    </tr>\n",
              "    <tr>\n",
              "      <th>...</th>\n",
              "      <td>...</td>\n",
              "      <td>...</td>\n",
              "      <td>...</td>\n",
              "      <td>...</td>\n",
              "      <td>...</td>\n",
              "      <td>...</td>\n",
              "      <td>...</td>\n",
              "      <td>...</td>\n",
              "    </tr>\n",
              "    <tr>\n",
              "      <th>72</th>\n",
              "      <td>Across the Universe</td>\n",
              "      <td>Romance</td>\n",
              "      <td>Independent</td>\n",
              "      <td>84</td>\n",
              "      <td>0.652603</td>\n",
              "      <td>54</td>\n",
              "      <td>$29.37</td>\n",
              "      <td>2007</td>\n",
              "    </tr>\n",
              "    <tr>\n",
              "      <th>73</th>\n",
              "      <td>A Serious Man</td>\n",
              "      <td>Drama</td>\n",
              "      <td>Universal</td>\n",
              "      <td>64</td>\n",
              "      <td>4.382857</td>\n",
              "      <td>89</td>\n",
              "      <td>$30.68</td>\n",
              "      <td>2009</td>\n",
              "    </tr>\n",
              "    <tr>\n",
              "      <th>74</th>\n",
              "      <td>A Dangerous Method</td>\n",
              "      <td>Drama</td>\n",
              "      <td>Independent</td>\n",
              "      <td>89</td>\n",
              "      <td>0.448645</td>\n",
              "      <td>79</td>\n",
              "      <td>$8.97</td>\n",
              "      <td>2011</td>\n",
              "    </tr>\n",
              "    <tr>\n",
              "      <th>75</th>\n",
              "      <td>27 Dresses</td>\n",
              "      <td>Comedy</td>\n",
              "      <td>Fox</td>\n",
              "      <td>71</td>\n",
              "      <td>5.343622</td>\n",
              "      <td>40</td>\n",
              "      <td>$160.31</td>\n",
              "      <td>2008</td>\n",
              "    </tr>\n",
              "    <tr>\n",
              "      <th>76</th>\n",
              "      <td>(500) Days of Summer</td>\n",
              "      <td>comedy</td>\n",
              "      <td>Fox</td>\n",
              "      <td>81</td>\n",
              "      <td>8.096000</td>\n",
              "      <td>87</td>\n",
              "      <td>$60.72</td>\n",
              "      <td>2009</td>\n",
              "    </tr>\n",
              "  </tbody>\n",
              "</table>\n",
              "<p>77 rows × 8 columns</p>\n",
              "</div>\n",
              "      <button class=\"colab-df-convert\" onclick=\"convertToInteractive('df-2bd2f642-03df-418b-ada1-9e3b9e69401f')\"\n",
              "              title=\"Convert this dataframe to an interactive table.\"\n",
              "              style=\"display:none;\">\n",
              "        \n",
              "  <svg xmlns=\"http://www.w3.org/2000/svg\" height=\"24px\"viewBox=\"0 0 24 24\"\n",
              "       width=\"24px\">\n",
              "    <path d=\"M0 0h24v24H0V0z\" fill=\"none\"/>\n",
              "    <path d=\"M18.56 5.44l.94 2.06.94-2.06 2.06-.94-2.06-.94-.94-2.06-.94 2.06-2.06.94zm-11 1L8.5 8.5l.94-2.06 2.06-.94-2.06-.94L8.5 2.5l-.94 2.06-2.06.94zm10 10l.94 2.06.94-2.06 2.06-.94-2.06-.94-.94-2.06-.94 2.06-2.06.94z\"/><path d=\"M17.41 7.96l-1.37-1.37c-.4-.4-.92-.59-1.43-.59-.52 0-1.04.2-1.43.59L10.3 9.45l-7.72 7.72c-.78.78-.78 2.05 0 2.83L4 21.41c.39.39.9.59 1.41.59.51 0 1.02-.2 1.41-.59l7.78-7.78 2.81-2.81c.8-.78.8-2.07 0-2.86zM5.41 20L4 18.59l7.72-7.72 1.47 1.35L5.41 20z\"/>\n",
              "  </svg>\n",
              "      </button>\n",
              "      \n",
              "  <style>\n",
              "    .colab-df-container {\n",
              "      display:flex;\n",
              "      flex-wrap:wrap;\n",
              "      gap: 12px;\n",
              "    }\n",
              "\n",
              "    .colab-df-convert {\n",
              "      background-color: #E8F0FE;\n",
              "      border: none;\n",
              "      border-radius: 50%;\n",
              "      cursor: pointer;\n",
              "      display: none;\n",
              "      fill: #1967D2;\n",
              "      height: 32px;\n",
              "      padding: 0 0 0 0;\n",
              "      width: 32px;\n",
              "    }\n",
              "\n",
              "    .colab-df-convert:hover {\n",
              "      background-color: #E2EBFA;\n",
              "      box-shadow: 0px 1px 2px rgba(60, 64, 67, 0.3), 0px 1px 3px 1px rgba(60, 64, 67, 0.15);\n",
              "      fill: #174EA6;\n",
              "    }\n",
              "\n",
              "    [theme=dark] .colab-df-convert {\n",
              "      background-color: #3B4455;\n",
              "      fill: #D2E3FC;\n",
              "    }\n",
              "\n",
              "    [theme=dark] .colab-df-convert:hover {\n",
              "      background-color: #434B5C;\n",
              "      box-shadow: 0px 1px 3px 1px rgba(0, 0, 0, 0.15);\n",
              "      filter: drop-shadow(0px 1px 2px rgba(0, 0, 0, 0.3));\n",
              "      fill: #FFFFFF;\n",
              "    }\n",
              "  </style>\n",
              "\n",
              "      <script>\n",
              "        const buttonEl =\n",
              "          document.querySelector('#df-2bd2f642-03df-418b-ada1-9e3b9e69401f button.colab-df-convert');\n",
              "        buttonEl.style.display =\n",
              "          google.colab.kernel.accessAllowed ? 'block' : 'none';\n",
              "\n",
              "        async function convertToInteractive(key) {\n",
              "          const element = document.querySelector('#df-2bd2f642-03df-418b-ada1-9e3b9e69401f');\n",
              "          const dataTable =\n",
              "            await google.colab.kernel.invokeFunction('convertToInteractive',\n",
              "                                                     [key], {});\n",
              "          if (!dataTable) return;\n",
              "\n",
              "          const docLinkHtml = 'Like what you see? Visit the ' +\n",
              "            '<a target=\"_blank\" href=https://colab.research.google.com/notebooks/data_table.ipynb>data table notebook</a>'\n",
              "            + ' to learn more about interactive tables.';\n",
              "          element.innerHTML = '';\n",
              "          dataTable['output_type'] = 'display_data';\n",
              "          await google.colab.output.renderOutput(dataTable, element);\n",
              "          const docLink = document.createElement('div');\n",
              "          docLink.innerHTML = docLinkHtml;\n",
              "          element.appendChild(docLink);\n",
              "        }\n",
              "      </script>\n",
              "    </div>\n",
              "  </div>\n",
              "  "
            ]
          },
          "metadata": {},
          "execution_count": 34
        }
      ],
      "source": [
        "# Your Code Here\n",
        "moviesdata.replace(to_replace=['Comdy','comedy'],value= 'Comedy')\n",
        "moviesdata.replace(to_replace=['romance','Romence'],value= 'Romance')"
      ]
    },
    {
      "cell_type": "markdown",
      "metadata": {
        "id": "XotWOMJ_IJPF"
      },
      "source": [
        "### Exercises 6: How many Comedy Genre movies has release in 2009?"
      ]
    },
    {
      "cell_type": "code",
      "execution_count": null,
      "metadata": {
        "id": "5uUubE70GOWL",
        "colab": {
          "base_uri": "https://localhost:8080/"
        },
        "outputId": "01e7b644-46f2-4608-8cab-e7cd1c3865e9"
      },
      "outputs": [
        {
          "output_type": "execute_result",
          "data": {
            "text/plain": [
              "41"
            ]
          },
          "metadata": {},
          "execution_count": 36
        }
      ],
      "source": [
        "# Your Code Here\n",
        "moviesdata[moviesdata['Genre']=='Comedy']['Film'].count()"
      ]
    },
    {
      "cell_type": "markdown",
      "metadata": {
        "id": "j-zcJYfdPiG3"
      },
      "source": [
        "### Exercises 7: Which year as the most number of Romance Genre Movies releases?"
      ]
    },
    {
      "cell_type": "code",
      "execution_count": null,
      "metadata": {
        "id": "28nVARnJIdnJ",
        "colab": {
          "base_uri": "https://localhost:8080/"
        },
        "outputId": "f93a7f71-2c0c-4765-ac57-9fc11896247f"
      },
      "outputs": [
        {
          "output_type": "execute_result",
          "data": {
            "text/plain": [
              "2011"
            ]
          },
          "metadata": {},
          "execution_count": 37
        }
      ],
      "source": [
        "# Your Code Here\n",
        "moviesdata[moviesdata['Genre']=='Romance']['Year'].max()"
      ]
    },
    {
      "cell_type": "markdown",
      "metadata": {
        "id": "QxEtNLKoQGKq"
      },
      "source": [
        "### Exercises 8: How many films are made by Sony Lead Studio?"
      ]
    },
    {
      "cell_type": "code",
      "execution_count": null,
      "metadata": {
        "id": "def6pUxHPxd-",
        "colab": {
          "base_uri": "https://localhost:8080/"
        },
        "outputId": "113e0e7a-e44b-4859-d3a0-9598458bde61"
      },
      "outputs": [
        {
          "output_type": "execute_result",
          "data": {
            "text/plain": [
              "4"
            ]
          },
          "metadata": {},
          "execution_count": 41
        }
      ],
      "source": [
        "# Your Code Here\n",
        "moviesdata[moviesdata['Lead Studio']=='Sony']['Film'].count()"
      ]
    },
    {
      "cell_type": "markdown",
      "metadata": {
        "id": "3uU00yjHQ7xC"
      },
      "source": [
        "### Exercises 9: How many films are having Audience score less than 50 %?"
      ]
    },
    {
      "cell_type": "code",
      "execution_count": null,
      "metadata": {
        "id": "f6KNkSfGP_8o",
        "colab": {
          "base_uri": "https://localhost:8080/"
        },
        "outputId": "86fa2ffd-9f6b-48ed-e119-76b77549e64e"
      },
      "outputs": [
        {
          "output_type": "execute_result",
          "data": {
            "text/plain": [
              "48"
            ]
          },
          "metadata": {},
          "execution_count": 42
        }
      ],
      "source": [
        "# Your Code Here\n",
        "moviesdata[moviesdata['Audience score %'] < 70]['Film'].count()"
      ]
    },
    {
      "cell_type": "markdown",
      "metadata": {
        "id": "gsOE9jyoRUuD"
      },
      "source": [
        "### Exercises 10: Display all the movies done by Universal Lead Studio?"
      ]
    },
    {
      "cell_type": "code",
      "execution_count": null,
      "metadata": {
        "id": "Dqd4XTCLRLh9",
        "colab": {
          "base_uri": "https://localhost:8080/"
        },
        "outputId": "eadba75d-405b-4f0a-9c78-0b70643f25f0"
      },
      "outputs": [
        {
          "output_type": "execute_result",
          "data": {
            "text/plain": [
              "45          Mamma Mia!\n",
              "46          Mamma Mia!\n",
              "48        Love Happens\n",
              "53           Leap Year\n",
              "54          Knocked Up\n",
              "57           Jane Eyre\n",
              "58    It's Complicated\n",
              "73       A Serious Man\n",
              "Name: Film, dtype: object"
            ]
          },
          "metadata": {},
          "execution_count": 43
        }
      ],
      "source": [
        "# Your Code Here\n",
        "moviesdata[moviesdata['Lead Studio']=='Universal']['Film']"
      ]
    }
  ],
  "metadata": {
    "colab": {
      "collapsed_sections": [
        "osYxN7qVTZX3"
      ],
      "provenance": [],
      "include_colab_link": true
    },
    "kernelspec": {
      "display_name": "Python 3",
      "language": "python",
      "name": "python3"
    },
    "language_info": {
      "codemirror_mode": {
        "name": "ipython",
        "version": 3
      },
      "file_extension": ".py",
      "mimetype": "text/x-python",
      "name": "python",
      "nbconvert_exporter": "python",
      "pygments_lexer": "ipython3",
      "version": "3.7.4"
    }
  },
  "nbformat": 4,
  "nbformat_minor": 0
}