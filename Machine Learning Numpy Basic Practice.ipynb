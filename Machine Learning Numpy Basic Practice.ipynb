{
  "nbformat": 4,
  "nbformat_minor": 0,
  "metadata": {
    "colab": {
      "provenance": [],
      "collapsed_sections": [
        "ic-S03RATomk"
      ],
      "include_colab_link": true
    },
    "kernelspec": {
      "name": "python3",
      "display_name": "Python 3"
    }
  },
  "cells": [
    {
      "cell_type": "markdown",
      "metadata": {
        "id": "view-in-github",
        "colab_type": "text"
      },
      "source": [
        "<a href=\"https://colab.research.google.com/github/unitinguncle/Machine-Learning/blob/main/Machine%20Learning%20Numpy%20Basic%20Practice.ipynb\" target=\"_parent\"><img src=\"https://colab.research.google.com/assets/colab-badge.svg\" alt=\"Open In Colab\"/></a>"
      ]
    },
    {
      "cell_type": "markdown",
      "source": [
        "## **Exercises**"
      ],
      "metadata": {
        "id": "ic-S03RATomk"
      }
    },
    {
      "cell_type": "markdown",
      "metadata": {
        "id": "qwgeAaDqSOm-"
      },
      "source": [
        "#### Exercise 1: Import the numpy package under the name np"
      ]
    },
    {
      "cell_type": "code",
      "metadata": {
        "id": "J44YqJ44QtlU"
      },
      "source": [
        "# Your Code Here\n",
        "import numpy as np"
      ],
      "execution_count": null,
      "outputs": []
    },
    {
      "cell_type": "markdown",
      "metadata": {
        "id": "_nZ3clmuSVlg"
      },
      "source": [
        "#### Exercise 2: Given an array *X*. Calculate sine, cosine, and tangent of *X*, element-wise.\n",
        "\n",
        "X = np.array([1, 45, 60, 90])"
      ]
    },
    {
      "cell_type": "code",
      "metadata": {
        "id": "A5x5wgJsQ2br",
        "colab": {
          "base_uri": "https://localhost:8080/"
        },
        "outputId": "2c90677a-2ee6-4dd4-ece9-84ccc5063103"
      },
      "source": [
        "# Your Code Here\n",
        "X = np.array([1,45,60,90])\n",
        "print(\"Sin value = \",np.sin(X))\n",
        "print(\"Cos value = \",np.cos(X))\n",
        "print(\"Tan value = \",np.tan(X))"
      ],
      "execution_count": null,
      "outputs": [
        {
          "output_type": "stream",
          "name": "stdout",
          "text": [
            "Sin value =  [ 0.84147098  0.85090352 -0.30481062  0.89399666]\n",
            "Cos value =  [ 0.54030231  0.52532199 -0.95241298 -0.44807362]\n",
            "Tan value =  [ 1.55740772  1.61977519  0.32004039 -1.99520041]\n"
          ]
        }
      ]
    },
    {
      "cell_type": "markdown",
      "metadata": {
        "id": "GMvtbx9iTISy"
      },
      "source": [
        "#### Exercise 3: Given an array *X*. Convert angles from radians to degrees.\n",
        "\n",
        "X = np.array([-np.pi, -np.pi/2, np.pi/2, np.pi])"
      ]
    },
    {
      "cell_type": "code",
      "metadata": {
        "id": "NJqUZmj6S_t1",
        "colab": {
          "base_uri": "https://localhost:8080/"
        },
        "outputId": "9fd80c6e-9e1e-4b56-bbc9-d31e19b03bfc"
      },
      "source": [
        "# Your Code Here\n",
        "X = np.array([-np.pi, -np.pi/2, np.pi/2, np.pi])\n",
        "np.rad2deg(X)"
      ],
      "execution_count": null,
      "outputs": [
        {
          "output_type": "execute_result",
          "data": {
            "text/plain": [
              "array([-180.,  -90.,   90.,  180.])"
            ]
          },
          "metadata": {},
          "execution_count": 12
        }
      ]
    },
    {
      "cell_type": "markdown",
      "metadata": {
        "id": "8hFPkopqTVkp"
      },
      "source": [
        "#### Exercise 4: Given an arrya *X*. Convert angles from degrees to radians.\n",
        "\n",
        "X = np.array([-180.,  -90.,   90.,  180.])"
      ]
    },
    {
      "cell_type": "code",
      "metadata": {
        "id": "1GcvmHC7THVM",
        "colab": {
          "base_uri": "https://localhost:8080/"
        },
        "outputId": "086120b5-e419-46a4-cadb-4a7b84a1fd60"
      },
      "source": [
        "# Your Code Here\n",
        "X = np.array([-180., -90., 90., 180.])\n",
        "np.deg2rad(X)"
      ],
      "execution_count": null,
      "outputs": [
        {
          "output_type": "execute_result",
          "data": {
            "text/plain": [
              "array([-3.14159265, -1.57079633,  1.57079633,  3.14159265])"
            ]
          },
          "metadata": {},
          "execution_count": 13
        }
      ]
    },
    {
      "cell_type": "markdown",
      "metadata": {
        "id": "xppXPZU2Tkm-"
      },
      "source": [
        "#### Exercise 5: Given an array *X*. Calculate hyperbolic sine, hyperbolic cosine, and hyperbolic tangent of *X*, element-wise. \n",
        "\n",
        "X = np.array([-1., 0, 1.])"
      ]
    },
    {
      "cell_type": "code",
      "metadata": {
        "id": "IMcSv22uTgms",
        "colab": {
          "base_uri": "https://localhost:8080/"
        },
        "outputId": "44cd5be9-86a0-4f9c-8ab1-11253ed2cafe"
      },
      "source": [
        "# Your Code Here\n",
        "X = np.array([-1., 0, 1.])\n",
        "np.sinh(X)\n",
        "np.cosh(X)\n",
        "np.tanh(X)"
      ],
      "execution_count": null,
      "outputs": [
        {
          "output_type": "execute_result",
          "data": {
            "text/plain": [
              "array([-0.76159416,  0.        ,  0.76159416])"
            ]
          },
          "metadata": {},
          "execution_count": 15
        }
      ]
    },
    {
      "cell_type": "markdown",
      "metadata": {
        "id": "ahRXCZSxT0kU"
      },
      "source": [
        "#### Exercise 6: Given an array *X*. Calculate the round, ceil, floor of *X*, element-wise\n",
        "\n",
        "X = np.array([4.1, 2.5, 44.5, 25.9, -1.1, -9.5, -6.9])"
      ]
    },
    {
      "cell_type": "code",
      "metadata": {
        "id": "p83dwIEPT7Ja",
        "colab": {
          "base_uri": "https://localhost:8080/"
        },
        "outputId": "749b14f3-33f4-4586-95ec-f0fa4f0c38b4"
      },
      "source": [
        "# Your Code Here\n",
        "X = np.array([4.1, 2.5, 44.5, 25.9, -1.1, -9.5, -6.9])\n",
        "print(\"Round form - \",np.round(X,1))\n",
        "print(\"Ceil form - \",np.ceil(X))\n",
        "print(\"Floor form - \",np.floor(X))"
      ],
      "execution_count": null,
      "outputs": [
        {
          "output_type": "stream",
          "name": "stdout",
          "text": [
            "Round form -  [ 4.1  2.5 44.5 25.9 -1.1 -9.5 -6.9]\n",
            "Ceil form -  [ 5.  3. 45. 26. -1. -9. -6.]\n",
            "Floor form -  [  4.   2.  44.  25.  -2. -10.  -7.]\n"
          ]
        }
      ]
    },
    {
      "cell_type": "markdown",
      "metadata": {
        "id": "KzcrhGeFUmVE"
      },
      "source": [
        "#### Exercise 7: Given an array *X*. Calculate the difference between neighboring elements, element-wise.\n",
        "\n",
        "X = np.array([11, 13, 23, 45, 77])"
      ]
    },
    {
      "cell_type": "code",
      "metadata": {
        "id": "bSQpJ5IQUSf0",
        "colab": {
          "base_uri": "https://localhost:8080/"
        },
        "outputId": "dec66632-4ee9-47e9-9520-7625c905e18a"
      },
      "source": [
        "# Your Code Here\n",
        "X = np.array([11, 13, 23, 45, 77])\n",
        "np.diff(X)"
      ],
      "execution_count": null,
      "outputs": [
        {
          "output_type": "execute_result",
          "data": {
            "text/plain": [
              "array([ 2, 10, 22, 32])"
            ]
          },
          "metadata": {},
          "execution_count": 21
        }
      ]
    },
    {
      "cell_type": "markdown",
      "metadata": {
        "id": "rmSYTiqyVB2x"
      },
      "source": [
        "#### Exercise 8: Given two arrays *X* and *Y*. Find the cross product.\n",
        "\n",
        "X = np.array([1, 2, 3])\n",
        "\n",
        "Y = np.array([4, 5, 6])"
      ]
    },
    {
      "cell_type": "code",
      "metadata": {
        "id": "JqHukc33U3L2",
        "colab": {
          "base_uri": "https://localhost:8080/"
        },
        "outputId": "c1a08242-be7a-43e3-ab04-4b7ceec20acf"
      },
      "source": [
        "# Your Code Here\n",
        "X = np.array([1, 2, 3])\n",
        "Y = np.array([4, 5, 6])\n",
        "np.cross(X,Y)"
      ],
      "execution_count": null,
      "outputs": [
        {
          "output_type": "execute_result",
          "data": {
            "text/plain": [
              "array([-3,  6, -3])"
            ]
          },
          "metadata": {},
          "execution_count": 22
        }
      ]
    },
    {
      "cell_type": "markdown",
      "metadata": {
        "id": "eg3qCawdV_1-"
      },
      "source": [
        "#### Exercise 9: Given two arrays *X* and *Y*. Find the dot product.\n",
        "\n",
        "X = np.array([1, 2, 3])\n",
        "\n",
        "Y = np.array([4, 5, 6])"
      ]
    },
    {
      "cell_type": "code",
      "metadata": {
        "id": "S2TgQkEyVa3z",
        "colab": {
          "base_uri": "https://localhost:8080/"
        },
        "outputId": "6fbd5b1a-36e0-4a38-8dc1-3f326b944018"
      },
      "source": [
        "# Your Code Here\n",
        "X = np.array([1, 2, 3])\n",
        "Y = np.array([4, 5, 6])\n",
        "np.dot(X,Y)"
      ],
      "execution_count": null,
      "outputs": [
        {
          "output_type": "execute_result",
          "data": {
            "text/plain": [
              "32"
            ]
          },
          "metadata": {},
          "execution_count": 23
        }
      ]
    },
    {
      "cell_type": "markdown",
      "metadata": {
        "id": "BWPtC69NWUbA"
      },
      "source": [
        "#### Exercise 10: Given two arrays *X* and *Y*. Divide *X* by *Y* element-wise using divide, true_divide, floor_divide functions.\n",
        "\n",
        "X = np.array([1, 2, 3])\n",
        "\n",
        "Y = np.array([4, 5, 6])"
      ]
    },
    {
      "cell_type": "code",
      "metadata": {
        "id": "YI7fbbJ4WspO",
        "colab": {
          "base_uri": "https://localhost:8080/"
        },
        "outputId": "42a5efda-64f3-4ae0-cd25-c797b511f27e"
      },
      "source": [
        "# Your Code Here\n",
        "X = np.array([1, 2, 3])\n",
        "Y = np.array([4, 5, 6])\n",
        "print(np.divide(X,Y))\n",
        "print(np.true_divide(X,Y))\n",
        "print(np.floor_divide(X,Y))"
      ],
      "execution_count": null,
      "outputs": [
        {
          "output_type": "stream",
          "name": "stdout",
          "text": [
            "[0.25 0.4  0.5 ]\n",
            "[0.25 0.4  0.5 ]\n",
            "[0 0 0]\n"
          ]
        }
      ]
    },
    {
      "cell_type": "markdown",
      "metadata": {
        "id": "GnIn_YWtW0-r"
      },
      "source": [
        "#### Exercise 11: Given two arrays *X* and *Y*. Compute $X^Y$, element-wise.\n",
        "\n",
        "X = np.array([1, 2, 3])\n",
        "\n",
        "Y = np.array([4, 5, 6])"
      ]
    },
    {
      "cell_type": "code",
      "metadata": {
        "id": "rtxR3cJPWury",
        "colab": {
          "base_uri": "https://localhost:8080/"
        },
        "outputId": "08901576-29d1-4e7d-eb7c-0ca79f514a73"
      },
      "source": [
        "# Your Code Here\n",
        "X = np.array([1, 2, 3])\n",
        "Y = np.array([4, 5, 6])\n",
        "np.power(X,Y)"
      ],
      "execution_count": null,
      "outputs": [
        {
          "output_type": "execute_result",
          "data": {
            "text/plain": [
              "array([  1,  32, 729])"
            ]
          },
          "metadata": {},
          "execution_count": 28
        }
      ]
    },
    {
      "cell_type": "markdown",
      "metadata": {
        "id": "HCV1xXXSXLUw"
      },
      "source": [
        "#### Exercise 12: Given one array *X* and Y = 3. Compute the remainder of X / Y element-wise using remainder and fmod functions.\n",
        "\n",
        "\n",
        "X = np.array([1, 2, 3])"
      ]
    },
    {
      "cell_type": "code",
      "metadata": {
        "id": "MYHnb66PXd0z",
        "colab": {
          "base_uri": "https://localhost:8080/"
        },
        "outputId": "15547d06-2c8b-4c79-d51b-24d4a7eb39f6"
      },
      "source": [
        "# Your Code Here\n",
        "X = np.array([1, 2, 3])\n",
        "Y = np.array([4, 5, 6])\n",
        "print(np.mod(X,Y))\n",
        "print(np.remainder(X,Y))\n",
        "print(np.fmod(X,Y))"
      ],
      "execution_count": null,
      "outputs": [
        {
          "output_type": "stream",
          "name": "stdout",
          "text": [
            "[1 2 3]\n",
            "[1 2 3]\n",
            "[1 2 3]\n"
          ]
        }
      ]
    },
    {
      "cell_type": "markdown",
      "metadata": {
        "id": "_8iviSU_XvzU"
      },
      "source": [
        "#### Exercise 13:  Given an array *X*. If an element of *X* is smaller than 5, replace it with 4. And if an element of *X* is bigger than 9, replace it with 8.\n",
        "\n",
        "X = np.array([8, 4, 22, 3, 66, 12, 1, 5])"
      ]
    },
    {
      "cell_type": "code",
      "metadata": {
        "id": "aWVTyhUOXpAv",
        "colab": {
          "base_uri": "https://localhost:8080/"
        },
        "outputId": "db240356-87df-490d-a214-7d4dd0af2d0b"
      },
      "source": [
        "# Your Code Here\n",
        "X = np.array([8, 4, 22, 3, 66, 12, 1, 5])\n",
        "X[X < 5] = 4\n",
        "X[X > 9] = 8\n",
        "X"
      ],
      "execution_count": null,
      "outputs": [
        {
          "output_type": "execute_result",
          "data": {
            "text/plain": [
              "array([8, 4, 8, 4, 8, 8, 4, 5])"
            ]
          },
          "metadata": {},
          "execution_count": 36
        }
      ]
    },
    {
      "cell_type": "markdown",
      "metadata": {
        "id": "S9I2YYFfg1es"
      },
      "source": [
        "#### Exercise 14: Given an array *X*. Compute the square of *X*, element-wise.\n",
        "\n",
        "X = np.array([2, 3, 4, 5, 6])"
      ]
    },
    {
      "cell_type": "code",
      "metadata": {
        "id": "zmUOYKqVg5tt",
        "colab": {
          "base_uri": "https://localhost:8080/"
        },
        "outputId": "1261b042-2788-40fc-91cd-a9fde868a0fd"
      },
      "source": [
        "# Your Code Here\n",
        "X = np.array([2, 3, 4, 5, 6])\n",
        "np.square(X)"
      ],
      "execution_count": null,
      "outputs": [
        {
          "output_type": "execute_result",
          "data": {
            "text/plain": [
              "array([ 4,  9, 16, 25, 36])"
            ]
          },
          "metadata": {},
          "execution_count": 37
        }
      ]
    },
    {
      "cell_type": "markdown",
      "metadata": {
        "id": "cUc_0e5ehFMl"
      },
      "source": [
        "#### Exercise 15: Given an array *X*. Compute the absolute value of *X*.\n",
        "\n",
        "X = np.array([[-44, 3], [4, -3]])"
      ]
    },
    {
      "cell_type": "code",
      "metadata": {
        "id": "I5p5ILAShAKk",
        "colab": {
          "base_uri": "https://localhost:8080/"
        },
        "outputId": "51079f1d-77b0-4d99-8065-91803d4d8659"
      },
      "source": [
        "X = np.array([[-44, 3], [4, -3]])\n",
        "np.abs(X)"
      ],
      "execution_count": null,
      "outputs": [
        {
          "output_type": "execute_result",
          "data": {
            "text/plain": [
              "array([[44,  3],\n",
              "       [ 4,  3]])"
            ]
          },
          "metadata": {},
          "execution_count": 38
        }
      ]
    },
    {
      "cell_type": "markdown",
      "metadata": {
        "id": "ozZ2u2G6hbDu"
      },
      "source": [
        "#### Exercise 16: Given an array *X*. Compute an element-wise indication of the sign of *X*, element-wise.\n",
        "\n",
        "X = np.array([1, 3, 0, -1, -3])"
      ]
    },
    {
      "cell_type": "code",
      "metadata": {
        "id": "dmKpDGslh5fF",
        "colab": {
          "base_uri": "https://localhost:8080/"
        },
        "outputId": "436832ee-a2cc-4d62-f37f-aaec6eea20ab"
      },
      "source": [
        "# Your Code Here\n",
        "X = np.array([1, 3, 0, -1, -3])\n",
        "np.sign(X)"
      ],
      "execution_count": null,
      "outputs": [
        {
          "output_type": "execute_result",
          "data": {
            "text/plain": [
              "array([ 1,  1,  0, -1, -1])"
            ]
          },
          "metadata": {},
          "execution_count": 39
        }
      ]
    },
    {
      "cell_type": "markdown",
      "metadata": {
        "id": "FBB-R10ch9sj"
      },
      "source": [
        "#### Exercise 17: Create an array of the given shape and populate it with random samples from a uniform distribution over [0, 1)."
      ]
    },
    {
      "cell_type": "code",
      "metadata": {
        "id": "x_p6iY0giKov",
        "colab": {
          "base_uri": "https://localhost:8080/"
        },
        "outputId": "11bd6200-1f09-45cb-d7b1-63ff107d19b9"
      },
      "source": [
        "# Your Code Here\n",
        "X = np.random.uniform(size=(3,3),low=0,high=1)\n",
        "X"
      ],
      "execution_count": null,
      "outputs": [
        {
          "output_type": "execute_result",
          "data": {
            "text/plain": [
              "array([[0.94529161, 0.6421294 , 0.22547341],\n",
              "       [0.22984558, 0.600618  , 0.23786429],\n",
              "       [0.777127  , 0.32122308, 0.63535071]])"
            ]
          },
          "metadata": {},
          "execution_count": 45
        }
      ]
    },
    {
      "cell_type": "markdown",
      "metadata": {
        "id": "tpGK4dgBiU1s"
      },
      "source": [
        "#### Exercise 18: Given an array *gaussian*. How do you get the number of dimensions of the array?\n",
        "\n",
        "\n",
        "gaussian = np.random.randn(2 * 3 * 4).reshape((2, 3, 4))"
      ]
    },
    {
      "cell_type": "code",
      "metadata": {
        "id": "KW7bBw22iML2",
        "colab": {
          "base_uri": "https://localhost:8080/"
        },
        "outputId": "2cb10dbc-46f3-4842-8abd-2296e98e6844"
      },
      "source": [
        "# Your Code Here\n",
        "gaussian = np.random.randn(2 * 3 * 4).reshape((2, 3, 4))\n",
        "gaussian.ndim"
      ],
      "execution_count": null,
      "outputs": [
        {
          "output_type": "execute_result",
          "data": {
            "text/plain": [
              "3"
            ]
          },
          "metadata": {},
          "execution_count": 48
        }
      ]
    },
    {
      "cell_type": "markdown",
      "metadata": {
        "id": "3C-hc7xii-DN"
      },
      "source": [
        "#### Exercise 19: Given an array *gaussian*. How do you get the shape of an array?\n",
        "\n",
        "\n",
        "gaussian = np.random.randn(2 * 3 * 4).reshape((2, 3, 4))"
      ]
    },
    {
      "cell_type": "code",
      "metadata": {
        "id": "GxN8bsmFi53f",
        "colab": {
          "base_uri": "https://localhost:8080/"
        },
        "outputId": "704c6da3-1db1-4f46-c3dc-f49ebfcf4a2b"
      },
      "source": [
        "# Your Code Here\n",
        "gaussian = np.random.randn(2 * 3 * 4).reshape((2, 3, 4))\n",
        "gaussian.shape"
      ],
      "execution_count": null,
      "outputs": [
        {
          "output_type": "execute_result",
          "data": {
            "text/plain": [
              "(2, 3, 4)"
            ]
          },
          "metadata": {},
          "execution_count": 50
        }
      ]
    },
    {
      "cell_type": "markdown",
      "metadata": {
        "id": "GBA8PxrmjF-3"
      },
      "source": [
        "#### Exercise 20: Given an array *gaussian*. How do you get the total number of elements in the array?\n",
        "\n",
        "\n",
        "gaussian = np.random.randn(2 * 3 * 4).reshape((2, 3, 4))"
      ]
    },
    {
      "cell_type": "code",
      "metadata": {
        "id": "PbpYir4xjEr6",
        "colab": {
          "base_uri": "https://localhost:8080/"
        },
        "outputId": "b3d5cb2c-eb4d-45be-dafc-4cf3d2427e45"
      },
      "source": [
        "# Your Code Here\n",
        "gaussian = np.random.randn(2 * 3 * 4).reshape((2, 3, 4))\n",
        "gaussian.size"
      ],
      "execution_count": null,
      "outputs": [
        {
          "output_type": "execute_result",
          "data": {
            "text/plain": [
              "24"
            ]
          },
          "metadata": {},
          "execution_count": 52
        }
      ]
    },
    {
      "cell_type": "markdown",
      "metadata": {
        "id": "t9ciOCrRjP57"
      },
      "source": [
        "#### Exercise 21: Given an array *gaussian*. How do you get memory consumed by each item in the array?\n",
        "\n",
        "\n",
        "gaussian = np.random.randn(2 * 3 * 4).reshape((2, 3, 4))"
      ]
    },
    {
      "cell_type": "code",
      "metadata": {
        "id": "iWK0KJNpjMxI",
        "colab": {
          "base_uri": "https://localhost:8080/"
        },
        "outputId": "1584df6a-cebd-4d44-c6cc-0cefffc1d1f5"
      },
      "source": [
        "# Your Code Here\n",
        "gaussian = np.random.randn(2 * 3 * 4).reshape((2, 3, 4))\n",
        "gaussian.itemsize"
      ],
      "execution_count": null,
      "outputs": [
        {
          "output_type": "execute_result",
          "data": {
            "text/plain": [
              "8"
            ]
          },
          "metadata": {},
          "execution_count": 53
        }
      ]
    },
    {
      "cell_type": "markdown",
      "metadata": {
        "id": "orakzs2UjXrL"
      },
      "source": [
        "#### Exercise 22: Given an array *twenty*. How do you access first two rows and three columns\n",
        "\n",
        "twenty = (np.arange(4 * 5)).reshape(4, 5)"
      ]
    },
    {
      "cell_type": "code",
      "metadata": {
        "id": "-Hv2d-AZjWw2",
        "colab": {
          "base_uri": "https://localhost:8080/"
        },
        "outputId": "eb852f93-b8b3-40e0-e9f0-a7f89f5ca478"
      },
      "source": [
        "# Your Code Here\n",
        "twenty = (np.arange(4 * 5)).reshape(4, 5)\n",
        "twenty[[0,1],:][:,[0,1,2]]"
      ],
      "execution_count": null,
      "outputs": [
        {
          "output_type": "execute_result",
          "data": {
            "text/plain": [
              "array([[0, 1, 2],\n",
              "       [5, 6, 7]])"
            ]
          },
          "metadata": {},
          "execution_count": 55
        }
      ]
    },
    {
      "cell_type": "markdown",
      "metadata": {
        "id": "MTiZNOygkDpz"
      },
      "source": [
        "#### Exercise 23: Given an array *twenty*. How do you reverse the order of elements along columns?\n",
        "\n",
        "\n",
        "twenty = (np.arange(4 * 5)).reshape(4, 5) "
      ]
    },
    {
      "cell_type": "code",
      "metadata": {
        "id": "gR9tbU3DkCiK",
        "colab": {
          "base_uri": "https://localhost:8080/"
        },
        "outputId": "7483649b-2e66-4f7f-fc93-ba4db46b41c4"
      },
      "source": [
        "# Your Code Here\n",
        "twenty = (np.arange(4 * 5)).reshape(4, 5)\n",
        "np.fliplr(twenty)"
      ],
      "execution_count": null,
      "outputs": [
        {
          "output_type": "execute_result",
          "data": {
            "text/plain": [
              "array([[ 4,  3,  2,  1,  0],\n",
              "       [ 9,  8,  7,  6,  5],\n",
              "       [14, 13, 12, 11, 10],\n",
              "       [19, 18, 17, 16, 15]])"
            ]
          },
          "metadata": {},
          "execution_count": 57
        }
      ]
    },
    {
      "cell_type": "markdown",
      "metadata": {
        "id": "EDfAt4wwkQ3j"
      },
      "source": [
        "#### Exercise 24: Given an array *twenty*. How do you reverse the order of elements along rows?\n",
        "\n",
        "\n",
        "twenty = (np.arange(4 * 5)).reshape(4, 5) "
      ]
    },
    {
      "cell_type": "code",
      "metadata": {
        "id": "FZraxHTWkP_7",
        "colab": {
          "base_uri": "https://localhost:8080/"
        },
        "outputId": "a31deee0-459e-4e33-a014-28d7dbd78ab3"
      },
      "source": [
        "# Your Code Here\n",
        "twenty = (np.arange(4 * 5)).reshape(4, 5)\n",
        "np.flip(twenty)"
      ],
      "execution_count": null,
      "outputs": [
        {
          "output_type": "execute_result",
          "data": {
            "text/plain": [
              "array([[19, 18, 17, 16, 15],\n",
              "       [14, 13, 12, 11, 10],\n",
              "       [ 9,  8,  7,  6,  5],\n",
              "       [ 4,  3,  2,  1,  0]])"
            ]
          },
          "metadata": {},
          "execution_count": 58
        }
      ]
    },
    {
      "cell_type": "markdown",
      "metadata": {
        "id": "6EjVbcyQknaZ"
      },
      "source": [
        "#### Exercise 25: Given an array *twenty*. How do you shuffle the array along axis - 0\n",
        "\n",
        "\n",
        "twenty = (np.arange(4 * 5)).reshape(4, 5) "
      ]
    },
    {
      "cell_type": "code",
      "metadata": {
        "id": "uMvozBGJkbWd",
        "colab": {
          "base_uri": "https://localhost:8080/"
        },
        "outputId": "341e1e2b-5f27-4334-8d57-4f0f6f93833b"
      },
      "source": [
        "# Your Code Here\n",
        "twenty = (np.arange(4 * 5)).reshape(4, 5)\n",
        "np.random.rand(*twenty.shape).argsort(axis=0)"
      ],
      "execution_count": null,
      "outputs": [
        {
          "output_type": "execute_result",
          "data": {
            "text/plain": [
              "array([[3, 3, 3, 0, 2],\n",
              "       [1, 2, 2, 2, 0],\n",
              "       [0, 1, 0, 3, 3],\n",
              "       [2, 0, 1, 1, 1]])"
            ]
          },
          "metadata": {},
          "execution_count": 60
        }
      ]
    }
  ]
}